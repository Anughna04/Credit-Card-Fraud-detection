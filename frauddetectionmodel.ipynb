{
  "nbformat": 4,
  "nbformat_minor": 0,
  "metadata": {
    "colab": {
      "provenance": [],
      "authorship_tag": "ABX9TyODXXyJkhwxOoOvg1iGYMZ9",
      "include_colab_link": true
    },
    "kernelspec": {
      "name": "python3",
      "display_name": "Python 3"
    },
    "language_info": {
      "name": "python"
    }
  },
  "cells": [
    {
      "cell_type": "markdown",
      "metadata": {
        "id": "view-in-github",
        "colab_type": "text"
      },
      "source": [
        "<a href=\"https://colab.research.google.com/github/Anughna04/Credit-Card-Fraud-detection/blob/main/frauddetectionmodel.ipynb\" target=\"_parent\"><img src=\"https://colab.research.google.com/assets/colab-badge.svg\" alt=\"Open In Colab\"/></a>"
      ]
    },
    {
      "cell_type": "code",
      "execution_count": null,
      "metadata": {
        "id": "ImVPbY86BwTA"
      },
      "outputs": [],
      "source": [
        "#importing the required libraries\n",
        "import pandas as pd\n",
        "import numpy as np\n",
        "import matplotlib.pyplot as plt\n",
        "from sklearn.model_selection import train_test_split,StratifiedKFold,cross_val_score\n",
        "from sklearn.preprocessing import StandardScaler\n",
        "from sklearn.metrics import classification_report,accuracy_score,roc_curve,auc\n",
        "from imblearn.over_sampling import SMOTE\n",
        "from sklearn.linear_model import LogisticRegression\n",
        "import pickle\n",
        "\n",
        "#import and read the dataset\n",
        "df=pd.read_csv('creditcard.csv')\n",
        "df.head()\n",
        "\n",
        "#Standardize and scale the features\n",
        "scaler=StandardScaler()\n",
        "df.iloc[:,:-1]=scaler.fit_transform(df.iloc[:,:-1])\n",
        "\n",
        "#divide dataset into features and target\n",
        "x=df.drop(\"Class\",axis=1)\n",
        "y=df[\"Class\"]\n",
        "print(y.value_counts())\n",
        "\n",
        "#Use smote to handle bias\n",
        "smote=SMOTE(sampling_strategy=0.33,random_state=42)\n",
        "x_resampled,y_resampled=smote.fit_resample(x,y)\n",
        "print(y_resampled.value_counts())\n",
        "\n",
        "#split into training and testing sets\n",
        "x_train,x_test,y_train,y_test=train_test_split(x_resampled,y_resampled,test_size=0.20,random_state=42)\n",
        "\n",
        "#define the model\n",
        "model=LogisticRegression()\n",
        "\n",
        "#cross validation with stratified kfold method\n",
        "skf = StratifiedKFold(n_splits=5, shuffle=True, random_state=42)\n",
        "cv_scores = cross_val_score(model, x_train, y_train, cv=skf, scoring=\"f1\")\n",
        "print(f\"Mean F1-score across 5 folds: {cv_scores.mean():.4f}\")\n",
        "\n",
        "#train the model\n",
        "model.fit(x_train,y_train)\n",
        "\n",
        "#evaluate model performance\n",
        "y_pred=model.predict(x_test)\n",
        "accuracy=accuracy_score(y_test,y_pred)\n",
        "print(\"Accuracy:\",accuracy)\n",
        "\n",
        "\"\"\"classification report is considered more than accuracy,as it gives info about key metrics\n",
        "like precision and recall for imbalanced data\"\"\"\n",
        "print(classification_report(y_test,y_pred))\n",
        "\n",
        "\"\"\"The ROC curve helps evaluate the model’s trade-off between detecting fraud(high recall)\n",
        "and avoiding false alarms(low FPR)\"\"\"\n",
        "fpr, tpr, _ = roc_curve(y_test, y_pred)\n",
        "roc_auc = auc(fpr, tpr)\n",
        "\n",
        "#plot the roc-auc curve\n",
        "plt.figure(figsize=(8, 6))\n",
        "plt.plot(fpr, tpr, color=\"blue\", label=f\"ROC Curve (AUC = {roc_auc:.2f})\")\n",
        "plt.plot([0, 1], [0, 1], color=\"gray\", linestyle=\"--\")  # Dashed diagonal line\n",
        "plt.xlabel(\"False Positive Rate\")\n",
        "plt.ylabel(\"True Positive Rate\")\n",
        "plt.title(\"ROC-AUC Curve for Fraud Detection\")\n",
        "plt.legend(loc=\"lower right\")\n",
        "plt.show()\n",
        "\n",
        "#save the model into a pickle file\n",
        "pickle.dump(model,open('model.pkl','wb'))"
      ]
    }
  ]
}